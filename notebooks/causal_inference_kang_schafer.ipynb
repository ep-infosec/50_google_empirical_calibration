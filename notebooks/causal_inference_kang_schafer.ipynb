{
  "cells": [
    {
      "cell_type": "code",
      "execution_count": 0,
      "metadata": {
        "cellView": "form",
        "colab": {},
        "colab_type": "code",
        "id": "O7Smg5SYGqvY"
      },
      "outputs": [],
      "source": [
        "#@title Copyright 2019 The Empirical Calibration Authors.\n",
        "# Licensed under the Apache License, Version 2.0 (the \"License\");\n",
        "# you may not use this file except in compliance with the License.\n",
        "# You may obtain a copy of the License at\n",
        "#\n",
        "#     https://www.apache.org/licenses/LICENSE-2.0\n",
        "#\n",
        "# Unless required by applicable law or agreed to in writing, software\n",
        "# distributed under the License is distributed on an \"AS IS\" BASIS,\n",
        "# WITHOUT WARRANTIES OR CONDITIONS OF ANY KIND, either express or implied.\n",
        "# See the License for the specific language governing permissions and\n",
        "# limitations under the License.\n",
        "# ============================================================================"
      ]
    },
    {
      "cell_type": "markdown",
      "metadata": {
        "colab_type": "text",
        "id": "RYsS3JrpHaJI"
      },
      "source": [
        "# Causal Inference of Kang-Schafer simulation."
      ]
    },
    {
      "cell_type": "markdown",
      "metadata": {
        "colab_type": "text",
        "id": "s_FngMAZGxLG"
      },
      "source": [
        "\u003ctable align=\"left\"\u003e\n",
        "  \u003ctd\u003e\n",
        "    \u003ca target=\"_blank\" href=\"https://colab.research.google.com/github/google/empirical_calibration/blob/master/notebooks/causal_inference_kang_schafer.ipynb\"\u003e\u003cimg src=\"https://www.tensorflow.org/images/colab_logo_32px.png\" /\u003eRun in Google Colab\u003c/a\u003e\n",
        "  \u003c/td\u003e\n",
        "  \u003ctd\u003e\n",
        "    \u003ca target=\"_blank\" href=\"https://github.com/google/empirical_calibration/blob/master/notebooks/causal_inference_kang_schafer.ipynb\"\u003e\u003cimg src=\"https://www.tensorflow.org/images/GitHub-Mark-32px.png\" /\u003eView source on GitHub\u003c/a\u003e\n",
        "  \u003c/td\u003e\n",
        "\u003c/table\u003e"
      ]
    },
    {
      "cell_type": "markdown",
      "metadata": {
        "colab_type": "toc",
        "id": "FDLqKjdKKZMV"
      },
      "source": [
        "\u003e[Causal Inference of Kang-Schafer simulation.](#scrollTo=RYsS3JrpHaJI)\n",
        "\n",
        "\u003e\u003e[Imports](#scrollTo=VGDMBD7TRIf4)\n",
        "\n",
        "\u003e\u003e[Correctly Specified Model](#scrollTo=X1D4OBiEZhnT)\n",
        "\n",
        "\u003e\u003e[Misspecified Model](#scrollTo=0zuCvTGVdMVj)\n",
        "\n",
        "\u003e\u003e[Benchmark Execution Time](#scrollTo=ITCnSqDiyjIx)\n",
        "\n"
      ]
    },
    {
      "cell_type": "markdown",
      "metadata": {
        "colab_type": "text",
        "id": "XhdK9tifRPYR"
      },
      "source": [
        "We illustrate empirical calibration to estimate the average treatment effect on the treated (ATT) on Kang-Schafer simulation under both correctly specified and misspecified models, and benchmark the execution time.  For details of simulation setup, please refer to [kang_schafer_population_mean.ipynb](./kang_schafer_population_mean.ipynb)."
      ]
    },
    {
      "cell_type": "markdown",
      "metadata": {
        "colab_type": "text",
        "id": "VGDMBD7TRIf4"
      },
      "source": [
        "## Imports"
      ]
    },
    {
      "cell_type": "code",
      "execution_count": 0,
      "metadata": {
        "colab": {},
        "colab_type": "code",
        "id": "hzy_rdy7WXyS"
      },
      "outputs": [],
      "source": [
        "from matplotlib import pyplot as plt\n",
        "import numpy as np\n",
        "import pandas as pd\n",
        "import patsy\n",
        "import seaborn as sns\n",
        "import timeit\n",
        "\n",
        "# install and import ec\n",
        "!pip install -q git+https://github.com/google/empirical_calibration\n",
        "import empirical_calibration as ec\n",
        "\n",
        "sns.set_style('whitegrid')\n",
        "%config InlineBackend.figure_format='retina'\n"
      ]
    },
    {
      "cell_type": "markdown",
      "metadata": {
        "colab_type": "text",
        "id": "X1D4OBiEZhnT"
      },
      "source": [
        "## Correctly Specified Model"
      ]
    },
    {
      "cell_type": "markdown",
      "metadata": {
        "colab_type": "text",
        "id": "5gUCcNuhcSBf"
      },
      "source": [
        "We run the simulation 1000 times under correctly specified logistic propensity score and linear outcome regression. For each simulation we estimate the average treatment effect on the treated (ATT) using empirical calibration."
      ]
    },
    {
      "cell_type": "code",
      "execution_count": 0,
      "metadata": {
        "colab": {},
        "colab_type": "code",
        "id": "0lcgAuqwiVLv"
      },
      "outputs": [],
      "source": [
        "def estimate_att(formula):\n",
        "  simulation = ec.data.kang_schafer.Simulation(size=1000)\n",
        "\n",
        "  t = simulation.treatment\n",
        "  y = simulation.outcome\n",
        "\n",
        "  df = pd.DataFrame(\n",
        "      np.column_stack(\n",
        "          [simulation.covariates, simulation.transformed_covariates]))\n",
        "  df.columns = [\"z1\", \"z2\", \"z3\", \"z4\", \"x1\", \"x2\", \"x3\", \"x4\"]\n",
        "  x = patsy.dmatrix(formula, df, return_type=\"dataframe\").values\n",
        "\n",
        "\n",
        "  weights = ec.maybe_exact_calibrate(covariates=x[t == 0],\n",
        "                                     target_covariates=x[t == 1])[0]\n",
        "\n",
        "  return (np.mean(y[t == 1]) - np.mean(y[t == 0]),\n",
        "          np.mean(y[t == 1]) - np.sum(y[t == 0] * weights))\n",
        "\n",
        "\n",
        "def show_estimates(estimates, col='weighted'):\n",
        "  ax = estimates[col].hist(bins=20, alpha=0.8, edgecolor='none')\n",
        "  plt.axvline(estimates[col].mean(), linestyle='dashed', color='red')\n",
        "  print('bias of {} is {}'.format(col, estimates[col].mean()))\n",
        "  print('rmse of {} is {}'.format(col, np.sqrt(np.mean((estimates[col] - 0.) ** 2))))"
      ]
    },
    {
      "cell_type": "code",
      "execution_count": 0,
      "metadata": {
        "colab": {},
        "colab_type": "code",
        "id": "qgVOrpBNN0AP"
      },
      "outputs": [],
      "source": [
        "estimates = pd.DataFrame(\n",
        "    [estimate_att(\"-1 + z1 + z2 + z3 + z4\") for i in xrange(1000)])\n",
        "estimates.columns = ['raw', 'weighted']"
      ]
    },
    {
      "cell_type": "markdown",
      "metadata": {
        "colab_type": "text",
        "id": "f0VIHhXycouh"
      },
      "source": [
        "The mean of the 1000 ATT estimates after weight correction is very close to the true zero ATT."
      ]
    },
    {
      "cell_type": "code",
      "execution_count": 5,
      "metadata": {
        "colab": {
          "height": 313
        },
        "colab_type": "code",
        "executionInfo": {
          "elapsed": 143,
          "status": "ok",
          "timestamp": 1563456747099,
          "user": {
            "displayName": "",
            "photoUrl": "",
            "userId": ""
          },
          "user_tz": 240
        },
        "id": "th6PXxYBnK6M",
        "outputId": "2506d307-4688-48fc-b286-ebf5e72aa315"
      },
      "outputs": [
        {
          "name": "stdout",
          "output_type": "stream",
          "text": [
            "bias of raw is -19.9628369399\n",
            "rmse of raw is 20.0889440518\n"
          ]
        },
        {
          "data": {
            "image/png": "[encoded data removed]",
            "text/plain": [
              "\u003cmatplotlib.figure.Figure at 0x7fc7f2f41b90\u003e"
            ]
          },
          "metadata": {
            "image/png": {
              "height": 262,
              "width": 391
            },
            "tags": []
          },
          "output_type": "display_data"
        }
      ],
      "source": [
        "show_estimates(estimates,'raw')"
      ]
    },
    {
      "cell_type": "code",
      "execution_count": 6,
      "metadata": {
        "colab": {
          "height": 313
        },
        "colab_type": "code",
        "executionInfo": {
          "elapsed": 143,
          "status": "ok",
          "timestamp": 1563456747286,
          "user": {
            "displayName": "",
            "photoUrl": "",
            "userId": ""
          },
          "user_tz": 240
        },
        "id": "irPv3UCLLMeu",
        "outputId": "d82b6d15-56b3-4165-bb6e-4ad82c4bcd1d"
      },
      "outputs": [
        {
          "name": "stdout",
          "output_type": "stream",
          "text": [
            "bias of weighted is 0.00108065962091\n",
            "rmse of weighted is 0.0854238555451\n"
          ]
        },
        {
          "data": {
            "image/png": "[encoded data removed]",
            "text/plain": [
              "\u003cmatplotlib.figure.Figure at 0x7fc7f2e5fe50\u003e"
            ]
          },
          "metadata": {
            "image/png": {
              "height": 262,
              "width": 389
            },
            "tags": []
          },
          "output_type": "display_data"
        }
      ],
      "source": [
        "show_estimates(estimates,'weighted')"
      ]
    },
    {
      "cell_type": "markdown",
      "metadata": {
        "colab_type": "text",
        "id": "0zuCvTGVdMVj"
      },
      "source": [
        "## Misspecified Model"
      ]
    },
    {
      "cell_type": "markdown",
      "metadata": {
        "colab_type": "text",
        "id": "sA_480Flh5gz"
      },
      "source": [
        "If the transformed covariates are observed in place of the true covariates, both the propensity score model and outcome regression model become misspecified. We run 1000 simulations and for each simulation estimate the ATT by balancing the transformed covariates. The causal estimate is no longer unbiased."
      ]
    },
    {
      "cell_type": "code",
      "execution_count": 0,
      "metadata": {
        "colab": {},
        "colab_type": "code",
        "id": "ReZeU-vUdk-j"
      },
      "outputs": [],
      "source": [
        "estimates_miss = pd.DataFrame([estimate_att(\"-1 + x1 + x2 + x3 + x4\") for i in xrange(1000)])\n",
        "estimates_miss.columns = ['raw', 'weighted']"
      ]
    },
    {
      "cell_type": "code",
      "execution_count": 8,
      "metadata": {
        "colab": {
          "height": 313
        },
        "colab_type": "code",
        "executionInfo": {
          "elapsed": 138,
          "status": "ok",
          "timestamp": 1563456757689,
          "user": {
            "displayName": "",
            "photoUrl": "",
            "userId": ""
          },
          "user_tz": 240
        },
        "id": "O1mUMQqFq4XI",
        "outputId": "2b4462dd-3e6f-4090-c536-8627fd21e24b"
      },
      "outputs": [
        {
          "name": "stdout",
          "output_type": "stream",
          "text": [
            "bias of weighted is -4.37849137373\n",
            "rmse of weighted is 4.50105698077\n"
          ]
        },
        {
          "data": {
            "image/png": "[encoded data removed]",
            "text/plain": [
              "\u003cmatplotlib.figure.Figure at 0x7fc7f279a190\u003e"
            ]
          },
          "metadata": {
            "image/png": {
              "height": 262,
              "width": 388
            },
            "tags": []
          },
          "output_type": "display_data"
        }
      ],
      "source": [
        "show_estimates(estimates_miss)"
      ]
    },
    {
      "cell_type": "markdown",
      "metadata": {
        "colab_type": "text",
        "id": "y4uYEPCnoUzG"
      },
      "source": [
        "One reasonable strategy is to expand the set of balancing covariates and hope it will make the model less \"misspecified\". If we additional balance the two-way interactions and the log transformation, the bias indeed reduces."
      ]
    },
    {
      "cell_type": "code",
      "execution_count": 0,
      "metadata": {
        "colab": {},
        "colab_type": "code",
        "id": "eY4OL0uFmbgk"
      },
      "outputs": [],
      "source": [
        "formula = (\"-1 + (x1 + x2 + x3 + x4)**2 + I(np.log(x1)) + I(np.log(x2)) + \"\n",
        "           \"I(np.log(x3)) + I(np.log(x4))\")\n",
        "\n",
        "estimates_expanded = pd.DataFrame([estimate_att(formula) for i in xrange(1000)])\n",
        "estimates_expanded.columns = ['raw', 'weighted']"
      ]
    },
    {
      "cell_type": "code",
      "execution_count": 10,
      "metadata": {
        "colab": {
          "height": 313
        },
        "colab_type": "code",
        "executionInfo": {
          "elapsed": 290,
          "status": "ok",
          "timestamp": 1563456781447,
          "user": {
            "displayName": "",
            "photoUrl": "",
            "userId": ""
          },
          "user_tz": 240
        },
        "id": "o9TjJbMIq8dv",
        "outputId": "eae4313d-03ba-4e62-d8fd-5932d11aa09b"
      },
      "outputs": [
        {
          "name": "stdout",
          "output_type": "stream",
          "text": [
            "bias of weighted is -1.88003551222\n",
            "rmse of weighted is 2.07831395567\n"
          ]
        },
        {
          "data": {
            "image/png": "[encoded data removed]",
            "text/plain": [
              "\u003cmatplotlib.figure.Figure at 0x7fc7f2cda510\u003e"
            ]
          },
          "metadata": {
            "image/png": {
              "height": 262,
              "width": 383
            },
            "tags": []
          },
          "output_type": "display_data"
        }
      ],
      "source": [
        "show_estimates(estimates_expanded)"
      ]
    },
    {
      "cell_type": "markdown",
      "metadata": {
        "colab_type": "text",
        "id": "1Ji6iROgDYfv"
      },
      "source": [
        "If the model was misspecified in the sense that more covariates are included than necessary, the causal estimate remains unbiased."
      ]
    },
    {
      "cell_type": "code",
      "execution_count": 0,
      "metadata": {
        "colab": {},
        "colab_type": "code",
        "id": "8ZsBSFkVB6-E"
      },
      "outputs": [],
      "source": [
        "formula = \"-1 + z1 + z2 + z3 + z4 + x1 + x2 + x3 + x4\"\n",
        "estimates_redundant = pd.DataFrame([estimate_att(formula) for i in range(1000)])\n",
        "estimates_redundant.columns = ['raw', 'weighted']"
      ]
    },
    {
      "cell_type": "code",
      "execution_count": 12,
      "metadata": {
        "colab": {
          "height": 313
        },
        "colab_type": "code",
        "executionInfo": {
          "elapsed": 159,
          "status": "ok",
          "timestamp": 1563456798742,
          "user": {
            "displayName": "",
            "photoUrl": "",
            "userId": ""
          },
          "user_tz": 240
        },
        "id": "gG0ToCi4rUzx",
        "outputId": "86ad654b-4a66-4ec7-cdb2-1d7b5ca37c43"
      },
      "outputs": [
        {
          "name": "stdout",
          "output_type": "stream",
          "text": [
            "bias of weighted is -0.00229483538445\n",
            "rmse of weighted is 0.0891054715229\n"
          ]
        },
        {
          "data": {
            "image/png": "[encoded data removed]",
            "text/plain": [
              "\u003cmatplotlib.figure.Figure at 0x7fc7f2576a90\u003e"
            ]
          },
          "metadata": {
            "image/png": {
              "height": 262,
              "width": 389
            },
            "tags": []
          },
          "output_type": "display_data"
        }
      ],
      "source": [
        "show_estimates(estimates_redundant)"
      ]
    },
    {
      "cell_type": "markdown",
      "metadata": {
        "colab_type": "text",
        "id": "ITCnSqDiyjIx"
      },
      "source": [
        "## Benchmark Execution Time"
      ]
    },
    {
      "cell_type": "markdown",
      "metadata": {
        "colab_type": "text",
        "id": "IknZ8jA51hbE"
      },
      "source": [
        "The execution time is generally linear with respect to the sample size. With 1 million control units, it takes around 1 second to find the weights."
      ]
    },
    {
      "cell_type": "code",
      "execution_count": 13,
      "metadata": {
        "colab": {
          "height": 170
        },
        "colab_type": "code",
        "executionInfo": {
          "elapsed": 202,
          "status": "ok",
          "timestamp": 1563456798977,
          "user": {
            "displayName": "",
            "photoUrl": "",
            "userId": ""
          },
          "user_tz": 240
        },
        "id": "i21mXoaxywOn",
        "outputId": "7de07cb5-9799-4caa-dc04-c18287336c5b"
      },
      "outputs": [
        {
          "data": {
            "text/plain": [
              "count    100.000000\n",
              "mean       0.001823\n",
              "std        0.000230\n",
              "min        0.001637\n",
              "25%        0.001699\n",
              "50%        0.001750\n",
              "75%        0.001873\n",
              "max        0.003199\n",
              "dtype: float64"
            ]
          },
          "execution_count": 13,
          "metadata": {
            "tags": []
          },
          "output_type": "execute_result"
        }
      ],
      "source": [
        "np.random.seed(123)\n",
        "simulation = ec.data.kang_schafer.Simulation(size=2000)\n",
        "x1 = simulation.covariates[simulation.treatment == 1]\n",
        "x0 = simulation.covariates[simulation.treatment == 0]\n",
        "pd.Series(timeit.repeat(\n",
        "    'ec.maybe_exact_calibrate(x0, x1)',\n",
        "    setup='from __main__ import x1, x0, ec',\n",
        "    repeat=100,\n",
        "    number=1)).describe()"
      ]
    },
    {
      "cell_type": "code",
      "execution_count": 14,
      "metadata": {
        "colab": {
          "height": 170
        },
        "colab_type": "code",
        "executionInfo": {
          "elapsed": 1117,
          "status": "ok",
          "timestamp": 1563456800133,
          "user": {
            "displayName": "",
            "photoUrl": "",
            "userId": ""
          },
          "user_tz": 240
        },
        "id": "pIdIjcpi077X",
        "outputId": "d12c2681-eaa2-41af-a8f5-83c04078688d"
      },
      "outputs": [
        {
          "data": {
            "text/plain": [
              "count    100.000000\n",
              "mean       0.010971\n",
              "std        0.000702\n",
              "min        0.010231\n",
              "25%        0.010383\n",
              "50%        0.010658\n",
              "75%        0.011522\n",
              "max        0.013335\n",
              "dtype: float64"
            ]
          },
          "execution_count": 14,
          "metadata": {
            "tags": []
          },
          "output_type": "execute_result"
        }
      ],
      "source": [
        "np.random.seed(123)\n",
        "simulation = ec.data.kang_schafer.Simulation(size=20000)\n",
        "x1 = simulation.covariates[simulation.treatment == 1]\n",
        "x0 = simulation.covariates[simulation.treatment == 0]\n",
        "pd.Series(timeit.repeat(\n",
        "    'ec.maybe_exact_calibrate(x0, x1)',\n",
        "    setup='from __main__ import x1, x0, ec',\n",
        "    repeat=100,\n",
        "    number=1)).describe()"
      ]
    }
  ],
  "metadata": {
    "colab": {
      "collapsed_sections": [],
      "last_runtime": {
        "build_target": "",
        "kind": "local"
      },
      "name": "causal_inference_kang_schafer.ipynb",
      "provenance": [],
      "version": "0.3.2"
    },
    "kernelspec": {
      "display_name": "Python 2",
      "name": "python2"
    }
  },
  "nbformat": 4,
  "nbformat_minor": 0
}

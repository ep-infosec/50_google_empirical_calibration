{
  "nbformat": 4,
  "nbformat_minor": 0,
  "metadata": {
    "colab": {
      "name": "survey_calibration_simulated.ipynb",
      "provenance": [],
      "collapsed_sections": []
    },
    "kernelspec": {
      "name": "python3",
      "display_name": "Python 3"
    }
  },
  "cells": [
    {
      "cell_type": "markdown",
      "metadata": {
        "id": "XhdK9tifRPYR"
      },
      "source": [
        "This is a toy example of using empirical calibration for survey calibration."
      ]
    },
    {
      "cell_type": "code",
      "metadata": {
        "cellView": "form",
        "id": "NBeKkRlhq1-Q"
      },
      "source": [
        "#@title Copyright 2019 The Empirical Calibration Authors.\n",
        "# Licensed under the Apache License, Version 2.0 (the \"License\");\n",
        "# you may not use this file except in compliance with the License.\n",
        "# You may obtain a copy of the License at\n",
        "#\n",
        "#     https://www.apache.org/licenses/LICENSE-2.0\n",
        "#\n",
        "# Unless required by applicable law or agreed to in writing, software\n",
        "# distributed under the License is distributed on an \"AS IS\" BASIS,\n",
        "# WITHOUT WARRANTIES OR CONDITIONS OF ANY KIND, either express or implied.\n",
        "# See the License for the specific language governing permissions and\n",
        "# limitations under the License.\n",
        "# ============================================================================"
      ],
      "execution_count": null,
      "outputs": []
    },
    {
      "cell_type": "markdown",
      "metadata": {
        "id": "rLVCPSCxCJez"
      },
      "source": [
        "<table align=\"left\">\n",
        "  <td>\n",
        "    <a target=\"_blank\" href=\"https://colab.research.google.com/github/google/empirical_calibration/blob/master/notebooks/survey_calibration_simulated.ipynb\"><img src=\"https://www.tensorflow.org/images/colab_logo_32px.png\" />Run in Google Colab</a>\n",
        "  </td>\n",
        "  <td>\n",
        "    <a target=\"_blank\" href=\"https://github.com/google/empirical_calibration/blob/master/notebooks/survey_calibration_simulated.ipynb\"><img src=\"https://www.tensorflow.org/images/GitHub-Mark-32px.png\" />View source on GitHub</a>\n",
        "  </td>\n",
        "</table>"
      ]
    },
    {
      "cell_type": "markdown",
      "metadata": {
        "id": "VGDMBD7TRIf4"
      },
      "source": [
        "## Imports"
      ]
    },
    {
      "cell_type": "code",
      "metadata": {
        "id": "hzy_rdy7WXyS",
        "outputId": "7d80089c-1972-4dc4-c121-76462cb9216d",
        "colab": {
          "base_uri": "https://localhost:8080/",
          "height": 90
        }
      },
      "source": [
        "from matplotlib import pyplot as plt\n",
        "import numpy as np\n",
        "import pandas as pd\n",
        "import seaborn as sns\n",
        "sns.set_style('whitegrid')\n",
        "%config InlineBackend.figure_format='retina'\n",
        "\n",
        "# install and import ec\n",
        "!pip install -q git+https://github.com/google/empirical_calibration\n",
        "import empirical_calibration as ec"
      ],
      "execution_count": 1,
      "outputs": [
        {
          "output_type": "stream",
          "text": [
            "/usr/local/lib/python3.6/dist-packages/statsmodels/tools/_testing.py:19: FutureWarning: pandas.util.testing is deprecated. Use the functions in the public API at pandas.testing instead.\n",
            "  import pandas.util.testing as tm\n"
          ],
          "name": "stderr"
        },
        {
          "output_type": "stream",
          "text": [
            "  Building wheel for empirical-calibration (setup.py) ... \u001b[?25l\u001b[?25hdone\n"
          ],
          "name": "stdout"
        }
      ]
    },
    {
      "cell_type": "markdown",
      "metadata": {
        "id": "D8orhXBdZq9l"
      },
      "source": [
        "## Selection Bias"
      ]
    },
    {
      "cell_type": "markdown",
      "metadata": {
        "id": "N2BGbpoHcLOc"
      },
      "source": [
        "Generate a population of size 1000."
      ]
    },
    {
      "cell_type": "code",
      "metadata": {
        "id": "aJ9oaJ4VeD2b",
        "outputId": "8ebf10de-c658-4724-ad46-c5f3cd051d05",
        "colab": {
          "base_uri": "https://localhost:8080/",
          "height": 34
        }
      },
      "source": [
        "np.random.seed(123)\n",
        "N = 1000  # population size.\n",
        "df_population = pd.DataFrame({\n",
        "    'x1': np.repeat(['F', 'F', 'M', 'M'], repeats=N),\n",
        "    'x2': np.repeat(['H', 'L', 'H', 'L'], repeats=N),\n",
        "    'y': (np.repeat([1e1, 2e1, 3e1, 4e1], repeats=N) +\n",
        "          np.random.normal(size=4*N)),\n",
        "    'response_rate': np.repeat([1.0e-2, 1.1e-2, 1.2e-2, 1.3e-2],\n",
        "                               repeats=N)\n",
        "})\n",
        "true_mean = df_population['y'].mean()\n",
        "print('true population mean is {}.'.format(true_mean))"
      ],
      "execution_count": 2,
      "outputs": [
        {
          "output_type": "stream",
          "text": [
            "true population mean is 25.011414202186163.\n"
          ],
          "name": "stdout"
        }
      ]
    },
    {
      "cell_type": "markdown",
      "metadata": {
        "id": "utqFsTLJEUjP"
      },
      "source": [
        "Define a function that draws a sample and calculates the estimates of mean."
      ]
    },
    {
      "cell_type": "code",
      "metadata": {
        "id": "CkmBwMobdm2A"
      },
      "source": [
        "def simulate(seed):\n",
        "  \"\"\"Draws sample and calculates (un)weighted estimates.\"\"\"\n",
        "  np.random.seed(seed)\n",
        "  responded = (np.random.uniform(size=4*N) <=\n",
        "               df_population['response_rate'])\n",
        "  df_sample = df_population.loc[responded]\n",
        "  weights, _ = ec.from_formula(\n",
        "      formula='~x1+x2',\n",
        "      df=df_sample,\n",
        "      baseline_weights = np.repeat(1.0 / df_sample.shape[0], df_sample.shape[0]),\n",
        "      target_df=df_population,\n",
        "      objective=ec.Objective.QUADRATIC)\n",
        "  return pd.Series({\n",
        "      'n': df_sample.shape[0],\n",
        "      'unweighted': df_sample['y'].mean(),\n",
        "      'weighted': df_sample['y'].mul(weights).sum()})"
      ],
      "execution_count": 9,
      "outputs": []
    },
    {
      "cell_type": "code",
      "metadata": {
        "id": "CRB-gGkpWcNu",
        "outputId": "c1d9d36b-5c27-4336-ae07-3feaf8282e83",
        "colab": {
          "base_uri": "https://localhost:8080/",
          "height": 87
        }
      },
      "source": [
        "# Try it out.\n",
        "simulate(123)"
      ],
      "execution_count": 10,
      "outputs": [
        {
          "output_type": "execute_result",
          "data": {
            "text/plain": [
              "n             58.000000\n",
              "unweighted    27.434867\n",
              "weighted      25.135381\n",
              "dtype: float64"
            ]
          },
          "metadata": {
            "tags": []
          },
          "execution_count": 10
        }
      ]
    },
    {
      "cell_type": "code",
      "metadata": {
        "id": "BlwdzFnfetYi"
      },
      "source": [
        "# Do it 1000 times and collect results.\n",
        "result = pd.DataFrame(simulate(seed) for seed in range(1000))"
      ],
      "execution_count": 11,
      "outputs": []
    },
    {
      "cell_type": "code",
      "metadata": {
        "id": "aaZYjzvn_w7s",
        "outputId": "2c37d85b-d983-4b81-9a04-90cb2c2c6914",
        "colab": {
          "base_uri": "https://localhost:8080/",
          "height": 52
        }
      },
      "source": [
        "# Calculate rmse.\n",
        "print('unweighted rmse is {}'.format(\n",
        "    np.sqrt(np.mean((result['unweighted']-true_mean)**2))))\n",
        "\n",
        "print('weighted rmse is {}'.format(\n",
        "    np.sqrt(np.mean((result['weighted']-true_mean)**2))))"
      ],
      "execution_count": 12,
      "outputs": [
        {
          "output_type": "stream",
          "text": [
            "unweighted rmse is 1.9925982840693195\n",
            "weighted rmse is 0.15064039778853136\n"
          ],
          "name": "stdout"
        }
      ]
    },
    {
      "cell_type": "code",
      "metadata": {
        "id": "qyTeGKSF6dMT",
        "outputId": "00f93779-529b-489f-aba2-e138813a322c",
        "colab": {
          "base_uri": "https://localhost:8080/",
          "height": 494
        }
      },
      "source": [
        "# visually compare unweighted vs weighted estimates.\n",
        "def compare_estimates(unweighted, weighted, truth,\n",
        "                      figsize=(12, 8),\n",
        "                      fontsize=22,\n",
        "                      output_path=None):\n",
        "  f = plt.figure(figsize=figsize)\n",
        "  plt.rcParams.update({'font.size': fontsize})\n",
        "  plt.hist(unweighted,\n",
        "           alpha=0.4,\n",
        "           color='orange',\n",
        "           edgecolor='none',\n",
        "           label='unweighted')\n",
        "  plt.hist(weighted,\n",
        "           alpha=0.4,\n",
        "           color='blue',\n",
        "           edgecolor='none',\n",
        "           label='weighted')\n",
        "  plt.axvline(truth, linestyle='dashed', color='red')\n",
        "  plt.legend(loc='upper left')\n",
        "  plt.show()\n",
        "  if output_path is not None:\n",
        "     f.savefig(output_path, bbox_inches='tight')\n",
        "\n",
        "compare_estimates(unweighted=result['unweighted'],\n",
        "                  weighted=result['weighted'],\n",
        "                  truth=true_mean)"
      ],
      "execution_count": 13,
      "outputs": [
        {
          "output_type": "display_data",
          "data": {
            "image/png": "[encoded data removed]",
            "text/plain": [
              "<Figure size 864x576 with 1 Axes>"
            ]
          },
          "metadata": {
            "tags": [],
            "image/png": {
              "width": 738,
              "height": 477
            },
            "needs_background": "light"
          }
        }
      ]
    }
  ]
}